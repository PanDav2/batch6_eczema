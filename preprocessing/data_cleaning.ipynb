{
 "cells": [
  {
   "cell_type": "code",
   "execution_count": 46,
   "metadata": {},
   "outputs": [],
   "source": [
    "import numpy as np\n",
    "import pandas as pd\n",
    "import regex"
   ]
  },
  {
   "cell_type": "code",
   "execution_count": 7,
   "metadata": {},
   "outputs": [],
   "source": [
    "# Read clinical data files\n",
    "path = './data/'\n",
    "clinical_all_df = pd.read_csv(path + 'MAARS_all_Fri_Apr_04_14h_CEST_2014.csv', sep='\\t')\n",
    "clinical_ad_df = pd.read_csv(path + 'MAARS_AD_full_20190131_12-34-49.csv', sep='\\t')\n",
    "clinical_ctrl_df = pd.read_csv(path + 'MAARS_Control_full_20190131_12-40-12.csv', sep='\\t')\n",
    "clinical_pso_df = pd.read_csv(path + 'MAARS_PSO_full_20190131_12-40-53.csv', sep='\\t')"
   ]
  },
  {
   "cell_type": "code",
   "execution_count": 135,
   "metadata": {},
   "outputs": [],
   "source": [
    "# Create function to change column names\n",
    "def changeColName(col):\n",
    "    \"\"\" This function takes a string as an input and applies following transformations:\n",
    "        1) Finds and removes last substring between parenthesis\n",
    "        2) Splits the string based on '#' and removes duplicate items\n",
    "        3) Trims strings, collates back into one string and replaces spaces with _\"\"\"\n",
    "    \n",
    "    # Extract latest string between outermost parenthesis\n",
    "    final = regex.findall('\\(((?>[^\\(\\)]+|(?R))*)\\)', col)\n",
    "    if len(final): col = col.replace('(' + final[-1] + ')','')\n",
    "    \n",
    "    # Deconstruct into list of tags\n",
    "    tags = col.split('#')\n",
    "    \n",
    "    # Remove duplicated tags\n",
    "    tags, idx = np.unique(tags,return_index=True)\n",
    "    tags = tags[np.argsort(idx)].tolist()\n",
    "    \n",
    "    # Trim strings, collate into one string and replace spaces with _\n",
    "    tags = list(map(str.strip, tags))\n",
    "    s = '->'.join(tags)\n",
    "    s = s.replace(' ', '_')\n",
    "    \n",
    "    return s\n",
    "\n",
    "# Merge all columns into a single array and write mapping\n",
    "all_cols = pd.concat([pd.Series(clinical_ad_df.columns), pd.Series(clinical_pso_df.columns), pd.Series(clinical_ctrl_df.columns)]).drop_duplicates()\n",
    "pd.concat([all_cols.map(lambda x: changeColName(x)), pd.Series(all_cols)], axis=1).rename(columns={0:'new_name',1:'old_name'}).to_csv('columns_mapping.csv')\n",
    "\n",
    "# Change column names using changeColName\n",
    "clinical_ad_df.columns = clinical_ad_df.columns.map(lambda x: changeColName(x))\n",
    "clinical_pso_df.columns = clinical_pso_df.columns.map(lambda x: changeColName(x))\n",
    "clinical_ctrl_df.columns = clinical_ctrl_df.columns.map(lambda x: changeColName(x))\n",
    "\n",
    "# Write updated data files\n",
    "file_suffix = '_new_cols'\n",
    "ext = '.csv'\n",
    "clinical_ad_df.to_csv('MAARS_AD_full_20190131_12-34-49' + file_suffix + ext , sep='\\t', index=False)\n",
    "clinical_ctrl_df.to_csv('MAARS_Control_full_20190131_12-40-12' + file_suffix + ext , sep='\\t', index=False)\n",
    "clinical_pso_df.to_csv('MAARS_PSO_full_20190131_12-40-53' + file_suffix + ext , sep='\\t', index=False)"
   ]
  },
  {
   "cell_type": "code",
   "execution_count": 134,
   "metadata": {},
   "outputs": [],
   "source": []
  }
 ],
 "metadata": {
  "kernelspec": {
   "display_name": "Python 3",
   "language": "python",
   "name": "python3"
  },
  "language_info": {
   "codemirror_mode": {
    "name": "ipython",
    "version": 3
   },
   "file_extension": ".py",
   "mimetype": "text/x-python",
   "name": "python",
   "nbconvert_exporter": "python",
   "pygments_lexer": "ipython3",
   "version": "3.7.1"
  }
 },
 "nbformat": 4,
 "nbformat_minor": 2
}
